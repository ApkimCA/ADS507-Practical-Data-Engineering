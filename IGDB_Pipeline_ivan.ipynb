{
 "cells": [
  {
   "attachments": {},
   "cell_type": "markdown",
   "metadata": {},
   "source": [
    "# Section 1 - Pulling data from API Endpoints and Cleaning\n",
    "Libraries"
   ]
  },
  {
   "cell_type": "code",
   "execution_count": 1,
   "metadata": {
    "collapsed": false
   },
   "outputs": [],
   "source": [
    "import os\n",
    "import pandas as pd\n",
    "import requests\n",
    "from sqlalchemy import create_engine\n",
    "from sqlalchemy import exc\n",
    "from dotenv import load_dotenv"
   ]
  },
  {
   "cell_type": "code",
   "execution_count": 2,
   "metadata": {
    "collapsed": false
   },
   "outputs": [
    {
     "data": {
      "text/plain": [
       "True"
      ]
     },
     "execution_count": 2,
     "metadata": {},
     "output_type": "execute_result"
    }
   ],
   "source": [
    "load_dotenv()"
   ]
  },
  {
   "cell_type": "markdown",
   "metadata": {
    "collapsed": false
   },
   "source": [
    "Set up credentials"
   ]
  },
  {
   "cell_type": "code",
   "execution_count": 3,
   "metadata": {
    "collapsed": false
   },
   "outputs": [
    {
     "name": "stdout",
     "output_type": "stream",
     "text": [
      "Bearer m7twd7xeh0e1vixmqrqg349ez2m4ao\n"
     ]
    }
   ],
   "source": [
    "auth_url = 'https://id.twitch.tv/oauth2/token'\n",
    "cred = {'client_id': os.getenv('CLIENT_ID'),\n",
    "           'client_secret': os.getenv('CLIENT_SECRET'),\n",
    "           'grant_type':'client_credentials'}\n",
    "r = requests.post(auth_url, data=cred)\n",
    "data = r.json()\n",
    "print('Bearer '+data['access_token'])\n",
    "\n",
    "base_url = 'https://api.igdb.com/v4'\n",
    "header = {'Client-ID': os.getenv('CLIENT_ID'),\n",
    "           'Authorization': 'Bearer '+data['access_token']}"
   ]
  },
  {
   "attachments": {},
   "cell_type": "markdown",
   "metadata": {
    "collapsed": false
   },
   "source": [
    "## Games Endpoint\n",
    "### games table\n",
    "Set max games we will pull"
   ]
  },
  {
   "cell_type": "code",
   "execution_count": 48,
   "metadata": {},
   "outputs": [],
   "source": [
    "max_games = 5000"
   ]
  },
  {
   "cell_type": "code",
   "execution_count": 61,
   "metadata": {
    "collapsed": false
   },
   "outputs": [],
   "source": [
    "i = 0\n",
    "games_table_df = pd.DataFrame()\n",
    "while i < max_games/500:\n",
    "    read = '''fields name, category, first_release_date, status,\n",
    "            aggregated_rating, aggregated_rating_count, rating, rating_count,\n",
    "            total_rating, total_rating_count; where category = 0; limit 500; offset '''\n",
    "    offset = str(500*i)\n",
    "    semi = ';'\n",
    "    data = read + offset + semi\n",
    "    r = requests.post(base_url+'/games', headers=header,\n",
    "    data= data)\n",
    "    games_table = r.json()\n",
    "    games_table_temp = pd.DataFrame(games_table)\n",
    "    games_table_df=pd.concat([games_table_temp,games_table_df])\n",
    "    i +=1"
   ]
  },
  {
   "cell_type": "markdown",
   "metadata": {
    "collapsed": false
   },
   "source": [
    "### genres table"
   ]
  },
  {
   "cell_type": "code",
   "execution_count": 49,
   "metadata": {},
   "outputs": [],
   "source": [
    "i = 0\n",
    "genres_table_df = pd.DataFrame()\n",
    "while i < max_games/500:\n",
    "    read = 'fields genres; limit 500; offset '\n",
    "    offset = str(500*i)\n",
    "    semi = ';'\n",
    "    data = read + offset + semi\n",
    "    r = requests.post(base_url+'/games', headers=header,\n",
    "    data= data)\n",
    "    genres_table = r.json()\n",
    "    genres_table_temp =pd.DataFrame(genres_table).explode('genres')\n",
    "    genres_table_df=pd.concat([genres_table_df,genres_table_temp])\n",
    "    i +=1"
   ]
  },
  {
   "cell_type": "code",
   "execution_count": 51,
   "metadata": {},
   "outputs": [
    {
     "data": {
      "text/html": [
       "<div>\n",
       "<style scoped>\n",
       "    .dataframe tbody tr th:only-of-type {\n",
       "        vertical-align: middle;\n",
       "    }\n",
       "\n",
       "    .dataframe tbody tr th {\n",
       "        vertical-align: top;\n",
       "    }\n",
       "\n",
       "    .dataframe thead th {\n",
       "        text-align: right;\n",
       "    }\n",
       "</style>\n",
       "<table border=\"1\" class=\"dataframe\">\n",
       "  <thead>\n",
       "    <tr style=\"text-align: right;\">\n",
       "      <th></th>\n",
       "      <th>id</th>\n",
       "      <th>genres</th>\n",
       "    </tr>\n",
       "  </thead>\n",
       "  <tbody>\n",
       "    <tr>\n",
       "      <th>0</th>\n",
       "      <td>35004</td>\n",
       "      <td>15</td>\n",
       "    </tr>\n",
       "    <tr>\n",
       "      <th>0</th>\n",
       "      <td>35004</td>\n",
       "      <td>32</td>\n",
       "    </tr>\n",
       "    <tr>\n",
       "      <th>1</th>\n",
       "      <td>176043</td>\n",
       "      <td>10</td>\n",
       "    </tr>\n",
       "    <tr>\n",
       "      <th>2</th>\n",
       "      <td>89616</td>\n",
       "      <td>9</td>\n",
       "    </tr>\n",
       "    <tr>\n",
       "      <th>2</th>\n",
       "      <td>89616</td>\n",
       "      <td>33</td>\n",
       "    </tr>\n",
       "    <tr>\n",
       "      <th>...</th>\n",
       "      <td>...</td>\n",
       "      <td>...</td>\n",
       "    </tr>\n",
       "    <tr>\n",
       "      <th>495</th>\n",
       "      <td>93138</td>\n",
       "      <td>13</td>\n",
       "    </tr>\n",
       "    <tr>\n",
       "      <th>496</th>\n",
       "      <td>3371</td>\n",
       "      <td>10</td>\n",
       "    </tr>\n",
       "    <tr>\n",
       "      <th>497</th>\n",
       "      <td>55009</td>\n",
       "      <td>NaN</td>\n",
       "    </tr>\n",
       "    <tr>\n",
       "      <th>498</th>\n",
       "      <td>93964</td>\n",
       "      <td>NaN</td>\n",
       "    </tr>\n",
       "    <tr>\n",
       "      <th>499</th>\n",
       "      <td>42000</td>\n",
       "      <td>12</td>\n",
       "    </tr>\n",
       "  </tbody>\n",
       "</table>\n",
       "<p>6972 rows × 2 columns</p>\n",
       "</div>"
      ],
      "text/plain": [
       "         id genres\n",
       "0     35004     15\n",
       "0     35004     32\n",
       "1    176043     10\n",
       "2     89616      9\n",
       "2     89616     33\n",
       "..      ...    ...\n",
       "495   93138     13\n",
       "496    3371     10\n",
       "497   55009    NaN\n",
       "498   93964    NaN\n",
       "499   42000     12\n",
       "\n",
       "[6972 rows x 2 columns]"
      ]
     },
     "execution_count": 51,
     "metadata": {},
     "output_type": "execute_result"
    }
   ],
   "source": [
    "genres_table_df"
   ]
  },
  {
   "cell_type": "markdown",
   "metadata": {
    "collapsed": false
   },
   "source": [
    "### keywords table"
   ]
  },
  {
   "cell_type": "code",
   "execution_count": 70,
   "metadata": {},
   "outputs": [],
   "source": [
    "i = 0\n",
    "keywords_table_df = pd.DataFrame()\n",
    "while i < max_games/500:\n",
    "    read = 'fields keywords; limit 500; offset '\n",
    "    offset = str(500*i)\n",
    "    semi = ';'\n",
    "    data = read + offset + semi\n",
    "    r = requests.post(base_url+'/games', headers=header,\n",
    "    data= data)\n",
    "    keywords_table = r.json()\n",
    "    keywords_table_temp =pd.DataFrame(keywords_table).explode('keywords')\n",
    "    keywords_table_df=pd.concat([keywords_table_df,keywords_table_temp])\n",
    "    i +=1"
   ]
  },
  {
   "cell_type": "code",
   "execution_count": 71,
   "metadata": {},
   "outputs": [
    {
     "data": {
      "text/html": [
       "<div>\n",
       "<style scoped>\n",
       "    .dataframe tbody tr th:only-of-type {\n",
       "        vertical-align: middle;\n",
       "    }\n",
       "\n",
       "    .dataframe tbody tr th {\n",
       "        vertical-align: top;\n",
       "    }\n",
       "\n",
       "    .dataframe thead th {\n",
       "        text-align: right;\n",
       "    }\n",
       "</style>\n",
       "<table border=\"1\" class=\"dataframe\">\n",
       "  <thead>\n",
       "    <tr style=\"text-align: right;\">\n",
       "      <th></th>\n",
       "      <th>id</th>\n",
       "      <th>keywords</th>\n",
       "    </tr>\n",
       "  </thead>\n",
       "  <tbody>\n",
       "    <tr>\n",
       "      <th>0</th>\n",
       "      <td>35004</td>\n",
       "      <td>NaN</td>\n",
       "    </tr>\n",
       "    <tr>\n",
       "      <th>1</th>\n",
       "      <td>176043</td>\n",
       "      <td>5340</td>\n",
       "    </tr>\n",
       "    <tr>\n",
       "      <th>1</th>\n",
       "      <td>176043</td>\n",
       "      <td>23861</td>\n",
       "    </tr>\n",
       "    <tr>\n",
       "      <th>2</th>\n",
       "      <td>89616</td>\n",
       "      <td>NaN</td>\n",
       "    </tr>\n",
       "    <tr>\n",
       "      <th>3</th>\n",
       "      <td>118008</td>\n",
       "      <td>NaN</td>\n",
       "    </tr>\n",
       "    <tr>\n",
       "      <th>...</th>\n",
       "      <td>...</td>\n",
       "      <td>...</td>\n",
       "    </tr>\n",
       "    <tr>\n",
       "      <th>496</th>\n",
       "      <td>3371</td>\n",
       "      <td>28703</td>\n",
       "    </tr>\n",
       "    <tr>\n",
       "      <th>497</th>\n",
       "      <td>55009</td>\n",
       "      <td>970</td>\n",
       "    </tr>\n",
       "    <tr>\n",
       "      <th>497</th>\n",
       "      <td>55009</td>\n",
       "      <td>1026</td>\n",
       "    </tr>\n",
       "    <tr>\n",
       "      <th>498</th>\n",
       "      <td>93964</td>\n",
       "      <td>NaN</td>\n",
       "    </tr>\n",
       "    <tr>\n",
       "      <th>499</th>\n",
       "      <td>42000</td>\n",
       "      <td>1033</td>\n",
       "    </tr>\n",
       "  </tbody>\n",
       "</table>\n",
       "<p>15082 rows × 2 columns</p>\n",
       "</div>"
      ],
      "text/plain": [
       "         id keywords\n",
       "0     35004      NaN\n",
       "1    176043     5340\n",
       "1    176043    23861\n",
       "2     89616      NaN\n",
       "3    118008      NaN\n",
       "..      ...      ...\n",
       "496    3371    28703\n",
       "497   55009      970\n",
       "497   55009     1026\n",
       "498   93964      NaN\n",
       "499   42000     1033\n",
       "\n",
       "[15082 rows x 2 columns]"
      ]
     },
     "execution_count": 71,
     "metadata": {},
     "output_type": "execute_result"
    }
   ],
   "source": [
    "keywords_table_df"
   ]
  },
  {
   "cell_type": "markdown",
   "metadata": {
    "collapsed": false
   },
   "source": [
    "### platforms table"
   ]
  },
  {
   "cell_type": "code",
   "execution_count": 7,
   "metadata": {
    "collapsed": false
   },
   "outputs": [
    {
     "data": {
      "text/html": [
       "<div>\n",
       "<style scoped>\n",
       "    .dataframe tbody tr th:only-of-type {\n",
       "        vertical-align: middle;\n",
       "    }\n",
       "\n",
       "    .dataframe tbody tr th {\n",
       "        vertical-align: top;\n",
       "    }\n",
       "\n",
       "    .dataframe thead th {\n",
       "        text-align: right;\n",
       "    }\n",
       "</style>\n",
       "<table border=\"1\" class=\"dataframe\">\n",
       "  <thead>\n",
       "    <tr style=\"text-align: right;\">\n",
       "      <th></th>\n",
       "      <th>id</th>\n",
       "      <th>platforms</th>\n",
       "    </tr>\n",
       "  </thead>\n",
       "  <tbody>\n",
       "    <tr>\n",
       "      <th>0</th>\n",
       "      <td>35004</td>\n",
       "      <td>6</td>\n",
       "    </tr>\n",
       "    <tr>\n",
       "      <th>1</th>\n",
       "      <td>176043</td>\n",
       "      <td>87</td>\n",
       "    </tr>\n",
       "    <tr>\n",
       "      <th>2</th>\n",
       "      <td>89616</td>\n",
       "      <td>34</td>\n",
       "    </tr>\n",
       "    <tr>\n",
       "      <th>2</th>\n",
       "      <td>89616</td>\n",
       "      <td>39</td>\n",
       "    </tr>\n",
       "    <tr>\n",
       "      <th>3</th>\n",
       "      <td>118008</td>\n",
       "      <td>6</td>\n",
       "    </tr>\n",
       "    <tr>\n",
       "      <th>...</th>\n",
       "      <td>...</td>\n",
       "      <td>...</td>\n",
       "    </tr>\n",
       "    <tr>\n",
       "      <th>95</th>\n",
       "      <td>123238</td>\n",
       "      <td>6</td>\n",
       "    </tr>\n",
       "    <tr>\n",
       "      <th>96</th>\n",
       "      <td>196510</td>\n",
       "      <td>NaN</td>\n",
       "    </tr>\n",
       "    <tr>\n",
       "      <th>97</th>\n",
       "      <td>88217</td>\n",
       "      <td>NaN</td>\n",
       "    </tr>\n",
       "    <tr>\n",
       "      <th>98</th>\n",
       "      <td>209902</td>\n",
       "      <td>6</td>\n",
       "    </tr>\n",
       "    <tr>\n",
       "      <th>99</th>\n",
       "      <td>89689</td>\n",
       "      <td>NaN</td>\n",
       "    </tr>\n",
       "  </tbody>\n",
       "</table>\n",
       "<p>112 rows × 2 columns</p>\n",
       "</div>"
      ],
      "text/plain": [
       "        id platforms\n",
       "0    35004         6\n",
       "1   176043        87\n",
       "2    89616        34\n",
       "2    89616        39\n",
       "3   118008         6\n",
       "..     ...       ...\n",
       "95  123238         6\n",
       "96  196510       NaN\n",
       "97   88217       NaN\n",
       "98  209902         6\n",
       "99   89689       NaN\n",
       "\n",
       "[112 rows x 2 columns]"
      ]
     },
     "execution_count": 7,
     "metadata": {},
     "output_type": "execute_result"
    }
   ],
   "source": [
    "r = requests.post(base_url+'/games', headers=header,\n",
    "data='fields platforms; limit 100;')\n",
    "platforms_table = r.json()\n",
    "platforms_table_df =pd.DataFrame(platforms_table).explode('platforms')\n",
    "platforms_table_df"
   ]
  },
  {
   "cell_type": "code",
   "execution_count": 72,
   "metadata": {},
   "outputs": [],
   "source": [
    "i = 0\n",
    "platforms_table_df = pd.DataFrame()\n",
    "while i < max_games/500:\n",
    "    read = 'fields platforms; limit 500; offset '\n",
    "    offset = str(500*i)\n",
    "    semi = ';'\n",
    "    data = read + offset + semi\n",
    "    r = requests.post(base_url+'/games', headers=header,\n",
    "    data= data)\n",
    "    platforms_table = r.json()\n",
    "    platforms_table_temp =pd.DataFrame(platforms_table).explode('platforms')\n",
    "    platforms_table_df=pd.concat([platforms_table_df,platforms_table_temp])\n",
    "    i +=1"
   ]
  },
  {
   "cell_type": "code",
   "execution_count": 73,
   "metadata": {},
   "outputs": [
    {
     "data": {
      "text/html": [
       "<div>\n",
       "<style scoped>\n",
       "    .dataframe tbody tr th:only-of-type {\n",
       "        vertical-align: middle;\n",
       "    }\n",
       "\n",
       "    .dataframe tbody tr th {\n",
       "        vertical-align: top;\n",
       "    }\n",
       "\n",
       "    .dataframe thead th {\n",
       "        text-align: right;\n",
       "    }\n",
       "</style>\n",
       "<table border=\"1\" class=\"dataframe\">\n",
       "  <thead>\n",
       "    <tr style=\"text-align: right;\">\n",
       "      <th></th>\n",
       "      <th>id</th>\n",
       "      <th>platforms</th>\n",
       "    </tr>\n",
       "  </thead>\n",
       "  <tbody>\n",
       "    <tr>\n",
       "      <th>0</th>\n",
       "      <td>35004</td>\n",
       "      <td>6</td>\n",
       "    </tr>\n",
       "    <tr>\n",
       "      <th>1</th>\n",
       "      <td>176043</td>\n",
       "      <td>87</td>\n",
       "    </tr>\n",
       "    <tr>\n",
       "      <th>2</th>\n",
       "      <td>89616</td>\n",
       "      <td>34</td>\n",
       "    </tr>\n",
       "    <tr>\n",
       "      <th>2</th>\n",
       "      <td>89616</td>\n",
       "      <td>39</td>\n",
       "    </tr>\n",
       "    <tr>\n",
       "      <th>3</th>\n",
       "      <td>118008</td>\n",
       "      <td>6</td>\n",
       "    </tr>\n",
       "    <tr>\n",
       "      <th>...</th>\n",
       "      <td>...</td>\n",
       "      <td>...</td>\n",
       "    </tr>\n",
       "    <tr>\n",
       "      <th>496</th>\n",
       "      <td>3371</td>\n",
       "      <td>4</td>\n",
       "    </tr>\n",
       "    <tr>\n",
       "      <th>496</th>\n",
       "      <td>3371</td>\n",
       "      <td>7</td>\n",
       "    </tr>\n",
       "    <tr>\n",
       "      <th>497</th>\n",
       "      <td>55009</td>\n",
       "      <td>38</td>\n",
       "    </tr>\n",
       "    <tr>\n",
       "      <th>498</th>\n",
       "      <td>93964</td>\n",
       "      <td>NaN</td>\n",
       "    </tr>\n",
       "    <tr>\n",
       "      <th>499</th>\n",
       "      <td>42000</td>\n",
       "      <td>150</td>\n",
       "    </tr>\n",
       "  </tbody>\n",
       "</table>\n",
       "<p>6300 rows × 2 columns</p>\n",
       "</div>"
      ],
      "text/plain": [
       "         id platforms\n",
       "0     35004         6\n",
       "1    176043        87\n",
       "2     89616        34\n",
       "2     89616        39\n",
       "3    118008         6\n",
       "..      ...       ...\n",
       "496    3371         4\n",
       "496    3371         7\n",
       "497   55009        38\n",
       "498   93964       NaN\n",
       "499   42000       150\n",
       "\n",
       "[6300 rows x 2 columns]"
      ]
     },
     "execution_count": 73,
     "metadata": {},
     "output_type": "execute_result"
    }
   ],
   "source": [
    "platforms_table_df"
   ]
  },
  {
   "cell_type": "markdown",
   "metadata": {
    "collapsed": false
   },
   "source": [
    "## Genres Endpoint\n",
    "### genres_info table"
   ]
  },
  {
   "cell_type": "code",
   "execution_count": 75,
   "metadata": {
    "collapsed": false
   },
   "outputs": [
    {
     "data": {
      "text/html": [
       "<div>\n",
       "<style scoped>\n",
       "    .dataframe tbody tr th:only-of-type {\n",
       "        vertical-align: middle;\n",
       "    }\n",
       "\n",
       "    .dataframe tbody tr th {\n",
       "        vertical-align: top;\n",
       "    }\n",
       "\n",
       "    .dataframe thead th {\n",
       "        text-align: right;\n",
       "    }\n",
       "</style>\n",
       "<table border=\"1\" class=\"dataframe\">\n",
       "  <thead>\n",
       "    <tr style=\"text-align: right;\">\n",
       "      <th></th>\n",
       "      <th>id</th>\n",
       "      <th>name</th>\n",
       "    </tr>\n",
       "  </thead>\n",
       "  <tbody>\n",
       "    <tr>\n",
       "      <th>0</th>\n",
       "      <td>4</td>\n",
       "      <td>Fighting</td>\n",
       "    </tr>\n",
       "    <tr>\n",
       "      <th>1</th>\n",
       "      <td>5</td>\n",
       "      <td>Shooter</td>\n",
       "    </tr>\n",
       "    <tr>\n",
       "      <th>2</th>\n",
       "      <td>7</td>\n",
       "      <td>Music</td>\n",
       "    </tr>\n",
       "    <tr>\n",
       "      <th>3</th>\n",
       "      <td>8</td>\n",
       "      <td>Platform</td>\n",
       "    </tr>\n",
       "    <tr>\n",
       "      <th>4</th>\n",
       "      <td>9</td>\n",
       "      <td>Puzzle</td>\n",
       "    </tr>\n",
       "    <tr>\n",
       "      <th>5</th>\n",
       "      <td>10</td>\n",
       "      <td>Racing</td>\n",
       "    </tr>\n",
       "    <tr>\n",
       "      <th>6</th>\n",
       "      <td>11</td>\n",
       "      <td>Real Time Strategy (RTS)</td>\n",
       "    </tr>\n",
       "    <tr>\n",
       "      <th>7</th>\n",
       "      <td>12</td>\n",
       "      <td>Role-playing (RPG)</td>\n",
       "    </tr>\n",
       "    <tr>\n",
       "      <th>8</th>\n",
       "      <td>13</td>\n",
       "      <td>Simulator</td>\n",
       "    </tr>\n",
       "    <tr>\n",
       "      <th>9</th>\n",
       "      <td>14</td>\n",
       "      <td>Sport</td>\n",
       "    </tr>\n",
       "    <tr>\n",
       "      <th>10</th>\n",
       "      <td>15</td>\n",
       "      <td>Strategy</td>\n",
       "    </tr>\n",
       "    <tr>\n",
       "      <th>11</th>\n",
       "      <td>16</td>\n",
       "      <td>Turn-based strategy (TBS)</td>\n",
       "    </tr>\n",
       "    <tr>\n",
       "      <th>12</th>\n",
       "      <td>24</td>\n",
       "      <td>Tactical</td>\n",
       "    </tr>\n",
       "    <tr>\n",
       "      <th>13</th>\n",
       "      <td>26</td>\n",
       "      <td>Quiz/Trivia</td>\n",
       "    </tr>\n",
       "    <tr>\n",
       "      <th>14</th>\n",
       "      <td>25</td>\n",
       "      <td>Hack and slash/Beat 'em up</td>\n",
       "    </tr>\n",
       "    <tr>\n",
       "      <th>15</th>\n",
       "      <td>30</td>\n",
       "      <td>Pinball</td>\n",
       "    </tr>\n",
       "    <tr>\n",
       "      <th>16</th>\n",
       "      <td>31</td>\n",
       "      <td>Adventure</td>\n",
       "    </tr>\n",
       "    <tr>\n",
       "      <th>17</th>\n",
       "      <td>33</td>\n",
       "      <td>Arcade</td>\n",
       "    </tr>\n",
       "    <tr>\n",
       "      <th>18</th>\n",
       "      <td>34</td>\n",
       "      <td>Visual Novel</td>\n",
       "    </tr>\n",
       "    <tr>\n",
       "      <th>19</th>\n",
       "      <td>32</td>\n",
       "      <td>Indie</td>\n",
       "    </tr>\n",
       "    <tr>\n",
       "      <th>20</th>\n",
       "      <td>35</td>\n",
       "      <td>Card &amp; Board Game</td>\n",
       "    </tr>\n",
       "    <tr>\n",
       "      <th>21</th>\n",
       "      <td>36</td>\n",
       "      <td>MOBA</td>\n",
       "    </tr>\n",
       "    <tr>\n",
       "      <th>22</th>\n",
       "      <td>2</td>\n",
       "      <td>Point-and-click</td>\n",
       "    </tr>\n",
       "  </tbody>\n",
       "</table>\n",
       "</div>"
      ],
      "text/plain": [
       "    id                        name\n",
       "0    4                    Fighting\n",
       "1    5                     Shooter\n",
       "2    7                       Music\n",
       "3    8                    Platform\n",
       "4    9                      Puzzle\n",
       "5   10                      Racing\n",
       "6   11    Real Time Strategy (RTS)\n",
       "7   12          Role-playing (RPG)\n",
       "8   13                   Simulator\n",
       "9   14                       Sport\n",
       "10  15                    Strategy\n",
       "11  16   Turn-based strategy (TBS)\n",
       "12  24                    Tactical\n",
       "13  26                 Quiz/Trivia\n",
       "14  25  Hack and slash/Beat 'em up\n",
       "15  30                     Pinball\n",
       "16  31                   Adventure\n",
       "17  33                      Arcade\n",
       "18  34                Visual Novel\n",
       "19  32                       Indie\n",
       "20  35           Card & Board Game\n",
       "21  36                        MOBA\n",
       "22   2             Point-and-click"
      ]
     },
     "execution_count": 75,
     "metadata": {},
     "output_type": "execute_result"
    }
   ],
   "source": [
    "r = requests.post(base_url+'/genres', headers=header, data='fields name; limit 500;')\n",
    "genre_info_table = r.json()\n",
    "genre_info_table_df = pd.DataFrame(genre_info_table)\n",
    "genre_info_table_df"
   ]
  },
  {
   "cell_type": "markdown",
   "metadata": {
    "collapsed": false
   },
   "source": [
    "## Keyword Endpoint\n",
    "### keyword_info_table"
   ]
  },
  {
   "cell_type": "code",
   "execution_count": 89,
   "metadata": {},
   "outputs": [],
   "source": [
    "max_keywords = 10_000\n",
    "i = 0\n",
    "keywords_info_table_df = pd.DataFrame()\n",
    "while i < max_keywords/500:\n",
    "    read = 'fields slug; limit 500; offset '\n",
    "    offset = str(500*i)\n",
    "    semi = ';'\n",
    "    data = read + offset + semi\n",
    "    r = requests.post(base_url+'/keywords', headers=header,\n",
    "    data= data)\n",
    "    keywords_info_table = r.json()\n",
    "    keywords_info_table_temp =pd.DataFrame(keywords_info_table)\n",
    "    keywords_info_table_df=pd.concat([keywords_info_table_df,keywords_info_table_temp])\n",
    "    i +=1"
   ]
  },
  {
   "cell_type": "code",
   "execution_count": 90,
   "metadata": {},
   "outputs": [
    {
     "data": {
      "text/html": [
       "<div>\n",
       "<style scoped>\n",
       "    .dataframe tbody tr th:only-of-type {\n",
       "        vertical-align: middle;\n",
       "    }\n",
       "\n",
       "    .dataframe tbody tr th {\n",
       "        vertical-align: top;\n",
       "    }\n",
       "\n",
       "    .dataframe thead th {\n",
       "        text-align: right;\n",
       "    }\n",
       "</style>\n",
       "<table border=\"1\" class=\"dataframe\">\n",
       "  <thead>\n",
       "    <tr style=\"text-align: right;\">\n",
       "      <th></th>\n",
       "      <th>id</th>\n",
       "      <th>slug</th>\n",
       "    </tr>\n",
       "  </thead>\n",
       "  <tbody>\n",
       "    <tr>\n",
       "      <th>0</th>\n",
       "      <td>3576</td>\n",
       "      <td>oi</td>\n",
       "    </tr>\n",
       "    <tr>\n",
       "      <th>1</th>\n",
       "      <td>4010</td>\n",
       "      <td>argentina</td>\n",
       "    </tr>\n",
       "    <tr>\n",
       "      <th>2</th>\n",
       "      <td>13017</td>\n",
       "      <td>fremen</td>\n",
       "    </tr>\n",
       "    <tr>\n",
       "      <th>3</th>\n",
       "      <td>1027</td>\n",
       "      <td>adventure</td>\n",
       "    </tr>\n",
       "    <tr>\n",
       "      <th>4</th>\n",
       "      <td>19226</td>\n",
       "      <td>fight-trivia</td>\n",
       "    </tr>\n",
       "    <tr>\n",
       "      <th>...</th>\n",
       "      <td>...</td>\n",
       "      <td>...</td>\n",
       "    </tr>\n",
       "    <tr>\n",
       "      <th>495</th>\n",
       "      <td>14655</td>\n",
       "      <td>big-bertha</td>\n",
       "    </tr>\n",
       "    <tr>\n",
       "      <th>496</th>\n",
       "      <td>20275</td>\n",
       "      <td>skydive-proximity-flight-game</td>\n",
       "    </tr>\n",
       "    <tr>\n",
       "      <th>497</th>\n",
       "      <td>20705</td>\n",
       "      <td>bentleys-hackpack-game</td>\n",
       "    </tr>\n",
       "    <tr>\n",
       "      <th>498</th>\n",
       "      <td>9758</td>\n",
       "      <td>3-d-glasses</td>\n",
       "    </tr>\n",
       "    <tr>\n",
       "      <th>499</th>\n",
       "      <td>10763</td>\n",
       "      <td>stepping-on-bugs</td>\n",
       "    </tr>\n",
       "  </tbody>\n",
       "</table>\n",
       "<p>10000 rows × 2 columns</p>\n",
       "</div>"
      ],
      "text/plain": [
       "        id                           slug\n",
       "0     3576                             oi\n",
       "1     4010                      argentina\n",
       "2    13017                         fremen\n",
       "3     1027                      adventure\n",
       "4    19226                   fight-trivia\n",
       "..     ...                            ...\n",
       "495  14655                     big-bertha\n",
       "496  20275  skydive-proximity-flight-game\n",
       "497  20705         bentleys-hackpack-game\n",
       "498   9758                    3-d-glasses\n",
       "499  10763               stepping-on-bugs\n",
       "\n",
       "[10000 rows x 2 columns]"
      ]
     },
     "execution_count": 90,
     "metadata": {},
     "output_type": "execute_result"
    }
   ],
   "source": [
    "keywords_info_table_df"
   ]
  },
  {
   "cell_type": "markdown",
   "metadata": {
    "collapsed": false
   },
   "source": [
    "## Platform Endpoint\n",
    "### Platform Table"
   ]
  },
  {
   "cell_type": "code",
   "execution_count": 92,
   "metadata": {
    "collapsed": false
   },
   "outputs": [
    {
     "data": {
      "text/html": [
       "<div>\n",
       "<style scoped>\n",
       "    .dataframe tbody tr th:only-of-type {\n",
       "        vertical-align: middle;\n",
       "    }\n",
       "\n",
       "    .dataframe tbody tr th {\n",
       "        vertical-align: top;\n",
       "    }\n",
       "\n",
       "    .dataframe thead th {\n",
       "        text-align: right;\n",
       "    }\n",
       "</style>\n",
       "<table border=\"1\" class=\"dataframe\">\n",
       "  <thead>\n",
       "    <tr style=\"text-align: right;\">\n",
       "      <th></th>\n",
       "      <th>id</th>\n",
       "      <th>name</th>\n",
       "    </tr>\n",
       "  </thead>\n",
       "  <tbody>\n",
       "    <tr>\n",
       "      <th>0</th>\n",
       "      <td>158</td>\n",
       "      <td>Commodore CDTV</td>\n",
       "    </tr>\n",
       "    <tr>\n",
       "      <th>1</th>\n",
       "      <td>339</td>\n",
       "      <td>Sega Pico</td>\n",
       "    </tr>\n",
       "    <tr>\n",
       "      <th>2</th>\n",
       "      <td>8</td>\n",
       "      <td>PlayStation 2</td>\n",
       "    </tr>\n",
       "    <tr>\n",
       "      <th>3</th>\n",
       "      <td>39</td>\n",
       "      <td>iOS</td>\n",
       "    </tr>\n",
       "    <tr>\n",
       "      <th>4</th>\n",
       "      <td>94</td>\n",
       "      <td>Commodore Plus/4</td>\n",
       "    </tr>\n",
       "    <tr>\n",
       "      <th>...</th>\n",
       "      <td>...</td>\n",
       "      <td>...</td>\n",
       "    </tr>\n",
       "    <tr>\n",
       "      <th>194</th>\n",
       "      <td>440</td>\n",
       "      <td>Visual Memory Unit / Visual Memory System</td>\n",
       "    </tr>\n",
       "    <tr>\n",
       "      <th>195</th>\n",
       "      <td>441</td>\n",
       "      <td>PocketStation</td>\n",
       "    </tr>\n",
       "    <tr>\n",
       "      <th>196</th>\n",
       "      <td>29</td>\n",
       "      <td>Sega Mega Drive/Genesis</td>\n",
       "    </tr>\n",
       "    <tr>\n",
       "      <th>197</th>\n",
       "      <td>390</td>\n",
       "      <td>PlayStation VR2</td>\n",
       "    </tr>\n",
       "    <tr>\n",
       "      <th>198</th>\n",
       "      <td>386</td>\n",
       "      <td>Meta Quest 2</td>\n",
       "    </tr>\n",
       "  </tbody>\n",
       "</table>\n",
       "<p>199 rows × 2 columns</p>\n",
       "</div>"
      ],
      "text/plain": [
       "      id                                       name\n",
       "0    158                             Commodore CDTV\n",
       "1    339                                  Sega Pico\n",
       "2      8                              PlayStation 2\n",
       "3     39                                        iOS\n",
       "4     94                           Commodore Plus/4\n",
       "..   ...                                        ...\n",
       "194  440  Visual Memory Unit / Visual Memory System\n",
       "195  441                              PocketStation\n",
       "196   29                    Sega Mega Drive/Genesis\n",
       "197  390                            PlayStation VR2\n",
       "198  386                               Meta Quest 2\n",
       "\n",
       "[199 rows x 2 columns]"
      ]
     },
     "execution_count": 92,
     "metadata": {},
     "output_type": "execute_result"
    }
   ],
   "source": [
    "r = requests.post(base_url+'/platforms', headers=header, data='fields name; limit 500;')\n",
    "platform_info_table = r.json()\n",
    "platform_info_table_df = pd.DataFrame(platform_info_table)\n",
    "platform_info_table_df"
   ]
  },
  {
   "cell_type": "markdown",
   "metadata": {
    "collapsed": false
   },
   "source": [
    "# Section 2 - Clean and Format Data"
   ]
  },
  {
   "cell_type": "code",
   "execution_count": 11,
   "metadata": {
    "collapsed": false
   },
   "outputs": [],
   "source": [
    "# Renaming df tables to sync with DB Schema\n",
    "# Games Table:\n",
    "games_table_df = games_table_df.rename(columns={\"id\":\"game_id\"})\n",
    "\n",
    "# Genre Tables:\n",
    "genres_table_df = genres_table_df.rename(columns={\"id\":\"game_id\", \"genres\":\"genre_id\"})\n",
    "genre_info_table_df = genre_info_table_df.rename(columns={\"id\":\"genre_id\", \"name\":\"genre_name\"})\n",
    "\n",
    "# Keyword Tables:\n",
    "keywords_table_df = keywords_table_df.rename(columns={\"id\":\"game_id\", \"keywords\":\"keyword_id\"})\n",
    "keyword_info_table_df = keyword_info_table_df.rename(columns={\"id\":\"keyword_id\", \"slug\":\"keyword_name\"})\n",
    "\n",
    "# Platform Tables:\n",
    "platforms_table_df = platforms_table_df.rename(columns={\"id\":\"game_id\", \"platforms\":\"platform_id\"})\n",
    "platform_info_table_df = platform_info_table_df.rename(columns={\"id\":\"platform_id\", \"name\":\"platform_name\"})"
   ]
  },
  {
   "cell_type": "code",
   "execution_count": 12,
   "metadata": {
    "collapsed": false
   },
   "outputs": [],
   "source": [
    "# Converting unix time to datetime format\n",
    "games_table_df['first_release_date'] = pd.to_datetime(games_table_df['first_release_date'], unit='s', origin='unix')"
   ]
  },
  {
   "cell_type": "markdown",
   "metadata": {
    "collapsed": false
   },
   "source": [
    "# Section 3 - Upload to AWS RDS MySQL Server"
   ]
  },
  {
   "cell_type": "code",
   "execution_count": 13,
   "metadata": {
    "collapsed": false
   },
   "outputs": [],
   "source": [
    "engine = create_engine(f\"mysql+pymysql://{os.getenv('USER')}:{os.getenv('PASS')}@{os.getenv('RDS_ENDPOINT')}/igdb\"\n",
    "                       .format(host= os.getenv(\"RDS_ENDPOINT\"),\n",
    "                               port= os.getenv(\"RDS_PORT\"),\n",
    "                               user=os.getenv('USER'),\n",
    "                               pw=os.getenv('PASS'),\n",
    "                               ))"
   ]
  },
  {
   "cell_type": "code",
   "execution_count": 15,
   "metadata": {
    "collapsed": false
   },
   "outputs": [],
   "source": [
    "for i in range(len(games_table_df)):\n",
    "    try:\n",
    "        games_table_df.iloc[i:i+1].to_sql(name=\"games\",if_exists='append',con = engine, index=False)\n",
    "    except exc.IntegrityError as e:\n",
    "        pass"
   ]
  },
  {
   "cell_type": "code",
   "execution_count": 16,
   "metadata": {
    "collapsed": false
   },
   "outputs": [],
   "source": [
    "for i in range(len(genres_table_df)):\n",
    "    try:\n",
    "        genres_table_df.iloc[i:i+1].to_sql(name=\"genres\",if_exists='append',con = engine, index=False)\n",
    "    except exc.IntegrityError as e:\n",
    "        pass"
   ]
  },
  {
   "cell_type": "code",
   "execution_count": 17,
   "metadata": {
    "collapsed": false
   },
   "outputs": [],
   "source": [
    "for i in range(len(keywords_table_df)):\n",
    "    try:\n",
    "        keywords_table_df.iloc[i:i+1].to_sql(name=\"keywords\",if_exists='append',con = engine, index=False)\n",
    "    except exc.IntegrityError as e:\n",
    "        pass"
   ]
  },
  {
   "cell_type": "code",
   "execution_count": 18,
   "metadata": {
    "collapsed": false
   },
   "outputs": [],
   "source": [
    "for i in range(len(platforms_table_df)):\n",
    "    try:\n",
    "        platforms_table_df.iloc[i:i+1].to_sql(name=\"platforms\",if_exists='append',con = engine, index=False)\n",
    "    except exc.IntegrityError as e:\n",
    "        pass"
   ]
  },
  {
   "cell_type": "code",
   "execution_count": 19,
   "metadata": {
    "collapsed": false
   },
   "outputs": [
    {
     "data": {
      "text/plain": [
       "100"
      ]
     },
     "execution_count": 19,
     "metadata": {},
     "output_type": "execute_result"
    }
   ],
   "source": [
    "genre_info_table_df.to_sql(name=\"genres_info\",if_exists='replace', con = engine, index=False)\n",
    "keyword_info_table_df.to_sql(name='keyword_info',if_exists='replace', con= engine, index=False)\n",
    "platform_info_table_df.to_sql(name=\"platform_info\", if_exists='replace', con= engine, index=False)"
   ]
  },
  {
   "attachments": {},
   "cell_type": "markdown",
   "metadata": {},
   "source": [
    "# Section 4 - Example Queries\n",
    "## Top Rated Tables by Game Rating"
   ]
  },
  {
   "cell_type": "code",
   "execution_count": null,
   "metadata": {},
   "outputs": [],
   "source": [
    "# Genres with top rated games\n",
    "SELECT gni.genre_name, AVG(gm.total_rating)\n",
    "FROM games AS gm\n",
    "INNER JOIN genres AS gn ON gm.game_id = gn.game_id\n",
    "INNER JOIN genres_info AS gni ON gn.genre_id = gni.genre_id\n",
    "GROUP BY gni.genre_id;"
   ]
  },
  {
   "cell_type": "code",
   "execution_count": null,
   "metadata": {},
   "outputs": [],
   "source": [
    "SELECT ki.keyword_name, AVG(gm.rating)\n",
    "FROM games AS gm\n",
    "INNER JOIN keywords AS k ON gm.game_id = k.game_id\n",
    "INNER JOIN keyword_info AS ki ON k.keyword_id = ki.keyword_id\n",
    "GROUP BY ki.keyword_id;"
   ]
  },
  {
   "cell_type": "code",
   "execution_count": null,
   "metadata": {},
   "outputs": [],
   "source": [
    "SELECT pi.platform_name, AVG(gm.rating)\n",
    "FROM games AS gm\n",
    "INNER JOIN platforms AS p ON gm.game_id = p.game_id\n",
    "INNER JOIN platform_info AS pi ON p.platform_id = pi.platform_id\n",
    "GROUP BY pi.platform_id;"
   ]
  }
 ],
 "metadata": {
  "kernelspec": {
   "display_name": "base",
   "language": "python",
   "name": "python3"
  },
  "language_info": {
   "codemirror_mode": {
    "name": "ipython",
    "version": 3
   },
   "file_extension": ".py",
   "mimetype": "text/x-python",
   "name": "python",
   "nbconvert_exporter": "python",
   "pygments_lexer": "ipython3",
   "version": "3.9.12"
  },
  "orig_nbformat": 4,
  "vscode": {
   "interpreter": {
    "hash": "8664ec075a8ce90f16a0b70cf6da41817d1e47365f87c65cf0c45a7dcf372579"
   }
  }
 },
 "nbformat": 4,
 "nbformat_minor": 2
}
