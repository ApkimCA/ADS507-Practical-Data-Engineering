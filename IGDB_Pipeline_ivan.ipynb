{
 "cells": [
  {
   "attachments": {},
   "cell_type": "markdown",
   "metadata": {},
   "source": [
    "# Section 1 - Pulling data from API Endpoints and Cleaning\n",
    "Libraries"
   ]
  },
  {
   "cell_type": "code",
   "execution_count": 142,
   "outputs": [],
   "source": [
    "import os\n",
    "import pandas as pd\n",
    "import requests\n",
    "from sqlalchemy import create_engine\n",
    "from sqlalchemy import exc\n",
    "from dotenv import load_dotenv"
   ],
   "metadata": {
    "collapsed": false
   }
  },
  {
   "cell_type": "code",
   "execution_count": 143,
   "outputs": [
    {
     "data": {
      "text/plain": "True"
     },
     "execution_count": 143,
     "metadata": {},
     "output_type": "execute_result"
    }
   ],
   "source": [
    "load_dotenv()"
   ],
   "metadata": {
    "collapsed": false
   }
  },
  {
   "cell_type": "markdown",
   "source": [
    "Set up credentials"
   ],
   "metadata": {
    "collapsed": false
   }
  },
  {
   "cell_type": "code",
   "execution_count": 144,
   "outputs": [
    {
     "name": "stdout",
     "output_type": "stream",
     "text": [
      "Bearer mg9xibn9yag6hk9wll3935z6x78aa7\n"
     ]
    }
   ],
   "source": [
    "\n",
    "auth_url = 'https://id.twitch.tv/oauth2/token'\n",
    "cred = {'client_id': os.getenv('CLIENT_ID'),\n",
    "           'client_secret': os.getenv('CLIENT_SECRET'),\n",
    "           'grant_type':'client_credentials'}\n",
    "r = requests.post(auth_url, data=cred)\n",
    "data = r.json()\n",
    "print('Bearer '+data['access_token'])\n",
    "\n",
    "base_url = 'https://api.igdb.com/v4'\n",
    "header = {'Client-ID': os.getenv('CLIENT_ID'),\n",
    "           'Authorization': 'Bearer '+data['access_token']}"
   ],
   "metadata": {
    "collapsed": false
   }
  },
  {
   "cell_type": "markdown",
   "source": [
    "## Games Endpoint\n",
    "### games table"
   ],
   "metadata": {
    "collapsed": false
   }
  },
  {
   "cell_type": "code",
   "execution_count": 145,
   "outputs": [
    {
     "data": {
      "text/plain": "        id  category  first_release_date  \\\n0    35004         0        1.437696e+09   \n1   176043         0                 NaN   \n2    89616         0                 NaN   \n3   118008         0        1.589501e+09   \n4    95080         0                 NaN   \n..     ...       ...                 ...   \n95   77236         0        1.131667e+09   \n96   70621         0                 NaN   \n97  137234         0                 NaN   \n98  137242         0                 NaN   \n99   66013         0        9.114336e+08   \n\n                                         name  status  rating  rating_count  \\\n0                          Demon Horde Master     NaN     NaN           NaN   \n1                                 Zero Racers     6.0     NaN           NaN   \n2                        Bubble Whirl Shooter     8.0     NaN           NaN   \n3                         Tabletop Playground     4.0     NaN           NaN   \n4                                       Dotra     NaN     NaN           NaN   \n..                                        ...     ...     ...           ...   \n95  Fengse Huanxiang 4: Shengzhan de Zhongyan     NaN     NaN           NaN   \n96                               Fruit Attack     NaN     NaN           NaN   \n97                                  Slip Slop     NaN     NaN           NaN   \n98                     Premier Collection III     NaN     NaN           NaN   \n99        Simple 1500 Series Vol. 7: The Card     NaN     NaN           NaN   \n\n    total_rating  total_rating_count  aggregated_rating  \\\n0            NaN                 NaN                NaN   \n1            NaN                 NaN                NaN   \n2            NaN                 NaN                NaN   \n3            NaN                 NaN                NaN   \n4            NaN                 NaN                NaN   \n..           ...                 ...                ...   \n95           NaN                 NaN                NaN   \n96           NaN                 NaN                NaN   \n97           NaN                 NaN                NaN   \n98           NaN                 NaN                NaN   \n99           NaN                 NaN                NaN   \n\n    aggregated_rating_count  \n0                       NaN  \n1                       NaN  \n2                       NaN  \n3                       NaN  \n4                       NaN  \n..                      ...  \n95                      NaN  \n96                      NaN  \n97                      NaN  \n98                      NaN  \n99                      NaN  \n\n[100 rows x 11 columns]",
      "text/html": "<div>\n<style scoped>\n    .dataframe tbody tr th:only-of-type {\n        vertical-align: middle;\n    }\n\n    .dataframe tbody tr th {\n        vertical-align: top;\n    }\n\n    .dataframe thead th {\n        text-align: right;\n    }\n</style>\n<table border=\"1\" class=\"dataframe\">\n  <thead>\n    <tr style=\"text-align: right;\">\n      <th></th>\n      <th>id</th>\n      <th>category</th>\n      <th>first_release_date</th>\n      <th>name</th>\n      <th>status</th>\n      <th>rating</th>\n      <th>rating_count</th>\n      <th>total_rating</th>\n      <th>total_rating_count</th>\n      <th>aggregated_rating</th>\n      <th>aggregated_rating_count</th>\n    </tr>\n  </thead>\n  <tbody>\n    <tr>\n      <th>0</th>\n      <td>35004</td>\n      <td>0</td>\n      <td>1.437696e+09</td>\n      <td>Demon Horde Master</td>\n      <td>NaN</td>\n      <td>NaN</td>\n      <td>NaN</td>\n      <td>NaN</td>\n      <td>NaN</td>\n      <td>NaN</td>\n      <td>NaN</td>\n    </tr>\n    <tr>\n      <th>1</th>\n      <td>176043</td>\n      <td>0</td>\n      <td>NaN</td>\n      <td>Zero Racers</td>\n      <td>6.0</td>\n      <td>NaN</td>\n      <td>NaN</td>\n      <td>NaN</td>\n      <td>NaN</td>\n      <td>NaN</td>\n      <td>NaN</td>\n    </tr>\n    <tr>\n      <th>2</th>\n      <td>89616</td>\n      <td>0</td>\n      <td>NaN</td>\n      <td>Bubble Whirl Shooter</td>\n      <td>8.0</td>\n      <td>NaN</td>\n      <td>NaN</td>\n      <td>NaN</td>\n      <td>NaN</td>\n      <td>NaN</td>\n      <td>NaN</td>\n    </tr>\n    <tr>\n      <th>3</th>\n      <td>118008</td>\n      <td>0</td>\n      <td>1.589501e+09</td>\n      <td>Tabletop Playground</td>\n      <td>4.0</td>\n      <td>NaN</td>\n      <td>NaN</td>\n      <td>NaN</td>\n      <td>NaN</td>\n      <td>NaN</td>\n      <td>NaN</td>\n    </tr>\n    <tr>\n      <th>4</th>\n      <td>95080</td>\n      <td>0</td>\n      <td>NaN</td>\n      <td>Dotra</td>\n      <td>NaN</td>\n      <td>NaN</td>\n      <td>NaN</td>\n      <td>NaN</td>\n      <td>NaN</td>\n      <td>NaN</td>\n      <td>NaN</td>\n    </tr>\n    <tr>\n      <th>...</th>\n      <td>...</td>\n      <td>...</td>\n      <td>...</td>\n      <td>...</td>\n      <td>...</td>\n      <td>...</td>\n      <td>...</td>\n      <td>...</td>\n      <td>...</td>\n      <td>...</td>\n      <td>...</td>\n    </tr>\n    <tr>\n      <th>95</th>\n      <td>77236</td>\n      <td>0</td>\n      <td>1.131667e+09</td>\n      <td>Fengse Huanxiang 4: Shengzhan de Zhongyan</td>\n      <td>NaN</td>\n      <td>NaN</td>\n      <td>NaN</td>\n      <td>NaN</td>\n      <td>NaN</td>\n      <td>NaN</td>\n      <td>NaN</td>\n    </tr>\n    <tr>\n      <th>96</th>\n      <td>70621</td>\n      <td>0</td>\n      <td>NaN</td>\n      <td>Fruit Attack</td>\n      <td>NaN</td>\n      <td>NaN</td>\n      <td>NaN</td>\n      <td>NaN</td>\n      <td>NaN</td>\n      <td>NaN</td>\n      <td>NaN</td>\n    </tr>\n    <tr>\n      <th>97</th>\n      <td>137234</td>\n      <td>0</td>\n      <td>NaN</td>\n      <td>Slip Slop</td>\n      <td>NaN</td>\n      <td>NaN</td>\n      <td>NaN</td>\n      <td>NaN</td>\n      <td>NaN</td>\n      <td>NaN</td>\n      <td>NaN</td>\n    </tr>\n    <tr>\n      <th>98</th>\n      <td>137242</td>\n      <td>0</td>\n      <td>NaN</td>\n      <td>Premier Collection III</td>\n      <td>NaN</td>\n      <td>NaN</td>\n      <td>NaN</td>\n      <td>NaN</td>\n      <td>NaN</td>\n      <td>NaN</td>\n      <td>NaN</td>\n    </tr>\n    <tr>\n      <th>99</th>\n      <td>66013</td>\n      <td>0</td>\n      <td>9.114336e+08</td>\n      <td>Simple 1500 Series Vol. 7: The Card</td>\n      <td>NaN</td>\n      <td>NaN</td>\n      <td>NaN</td>\n      <td>NaN</td>\n      <td>NaN</td>\n      <td>NaN</td>\n      <td>NaN</td>\n    </tr>\n  </tbody>\n</table>\n<p>100 rows × 11 columns</p>\n</div>"
     },
     "execution_count": 145,
     "metadata": {},
     "output_type": "execute_result"
    }
   ],
   "source": [
    "r = requests.post(base_url+'/games', headers=header,\n",
    "data='''fields name, category, first_release_date, status,\n",
    "aggregated_rating, aggregated_rating_count, rating, rating_count,\n",
    "total_rating, total_rating_count; where category = 0; limit 100;''')\n",
    "games_table = r.json()\n",
    "games_table_df = pd.DataFrame(games_table)\n",
    "\n",
    "games_table_df\n",
    "\n"
   ],
   "metadata": {
    "collapsed": false
   }
  },
  {
   "cell_type": "markdown",
   "source": [
    "### genres table"
   ],
   "metadata": {
    "collapsed": false
   }
  },
  {
   "cell_type": "code",
   "execution_count": 146,
   "outputs": [
    {
     "data": {
      "text/plain": "        id genres\n0    35004     15\n0    35004     32\n1   176043     10\n2    89616      9\n2    89616     33\n..     ...    ...\n96  123238     32\n97  196510     15\n97  196510     32\n98   88217    NaN\n99  209902    NaN\n\n[144 rows x 2 columns]",
      "text/html": "<div>\n<style scoped>\n    .dataframe tbody tr th:only-of-type {\n        vertical-align: middle;\n    }\n\n    .dataframe tbody tr th {\n        vertical-align: top;\n    }\n\n    .dataframe thead th {\n        text-align: right;\n    }\n</style>\n<table border=\"1\" class=\"dataframe\">\n  <thead>\n    <tr style=\"text-align: right;\">\n      <th></th>\n      <th>id</th>\n      <th>genres</th>\n    </tr>\n  </thead>\n  <tbody>\n    <tr>\n      <th>0</th>\n      <td>35004</td>\n      <td>15</td>\n    </tr>\n    <tr>\n      <th>0</th>\n      <td>35004</td>\n      <td>32</td>\n    </tr>\n    <tr>\n      <th>1</th>\n      <td>176043</td>\n      <td>10</td>\n    </tr>\n    <tr>\n      <th>2</th>\n      <td>89616</td>\n      <td>9</td>\n    </tr>\n    <tr>\n      <th>2</th>\n      <td>89616</td>\n      <td>33</td>\n    </tr>\n    <tr>\n      <th>...</th>\n      <td>...</td>\n      <td>...</td>\n    </tr>\n    <tr>\n      <th>96</th>\n      <td>123238</td>\n      <td>32</td>\n    </tr>\n    <tr>\n      <th>97</th>\n      <td>196510</td>\n      <td>15</td>\n    </tr>\n    <tr>\n      <th>97</th>\n      <td>196510</td>\n      <td>32</td>\n    </tr>\n    <tr>\n      <th>98</th>\n      <td>88217</td>\n      <td>NaN</td>\n    </tr>\n    <tr>\n      <th>99</th>\n      <td>209902</td>\n      <td>NaN</td>\n    </tr>\n  </tbody>\n</table>\n<p>144 rows × 2 columns</p>\n</div>"
     },
     "execution_count": 146,
     "metadata": {},
     "output_type": "execute_result"
    }
   ],
   "source": [
    "r = requests.post(base_url+'/games', headers=header,\n",
    "data='fields genres; limit 100;')\n",
    "genres_table = r.json()\n",
    "genres_table_df =pd.DataFrame(genres_table).explode('genres')\n",
    "genres_table_df"
   ],
   "metadata": {
    "collapsed": false
   }
  },
  {
   "cell_type": "markdown",
   "source": [
    "### keywords table"
   ],
   "metadata": {
    "collapsed": false
   }
  },
  {
   "cell_type": "code",
   "execution_count": 147,
   "outputs": [
    {
     "data": {
      "text/plain": "        id keywords\n0    35004      NaN\n1   176043     5340\n1   176043    23861\n2    89616      NaN\n3   118008      NaN\n..     ...      ...\n95   51648     1026\n96  123238     3257\n97  196510      NaN\n98   88217      NaN\n99  209902      NaN\n\n[220 rows x 2 columns]",
      "text/html": "<div>\n<style scoped>\n    .dataframe tbody tr th:only-of-type {\n        vertical-align: middle;\n    }\n\n    .dataframe tbody tr th {\n        vertical-align: top;\n    }\n\n    .dataframe thead th {\n        text-align: right;\n    }\n</style>\n<table border=\"1\" class=\"dataframe\">\n  <thead>\n    <tr style=\"text-align: right;\">\n      <th></th>\n      <th>id</th>\n      <th>keywords</th>\n    </tr>\n  </thead>\n  <tbody>\n    <tr>\n      <th>0</th>\n      <td>35004</td>\n      <td>NaN</td>\n    </tr>\n    <tr>\n      <th>1</th>\n      <td>176043</td>\n      <td>5340</td>\n    </tr>\n    <tr>\n      <th>1</th>\n      <td>176043</td>\n      <td>23861</td>\n    </tr>\n    <tr>\n      <th>2</th>\n      <td>89616</td>\n      <td>NaN</td>\n    </tr>\n    <tr>\n      <th>3</th>\n      <td>118008</td>\n      <td>NaN</td>\n    </tr>\n    <tr>\n      <th>...</th>\n      <td>...</td>\n      <td>...</td>\n    </tr>\n    <tr>\n      <th>95</th>\n      <td>51648</td>\n      <td>1026</td>\n    </tr>\n    <tr>\n      <th>96</th>\n      <td>123238</td>\n      <td>3257</td>\n    </tr>\n    <tr>\n      <th>97</th>\n      <td>196510</td>\n      <td>NaN</td>\n    </tr>\n    <tr>\n      <th>98</th>\n      <td>88217</td>\n      <td>NaN</td>\n    </tr>\n    <tr>\n      <th>99</th>\n      <td>209902</td>\n      <td>NaN</td>\n    </tr>\n  </tbody>\n</table>\n<p>220 rows × 2 columns</p>\n</div>"
     },
     "execution_count": 147,
     "metadata": {},
     "output_type": "execute_result"
    }
   ],
   "source": [
    "r = requests.post(base_url+'/games', headers=header,\n",
    "data='fields keywords; limit 100;')\n",
    "keywords_table = r.json()\n",
    "keywords_table_df =pd.DataFrame(keywords_table).explode('keywords')\n",
    "keywords_table_df"
   ],
   "metadata": {
    "collapsed": false
   }
  },
  {
   "cell_type": "markdown",
   "source": [
    "### platforms table"
   ],
   "metadata": {
    "collapsed": false
   }
  },
  {
   "cell_type": "code",
   "execution_count": 148,
   "outputs": [
    {
     "data": {
      "text/plain": "        id platforms\n0    35004         6\n1   176043        87\n2    89616        34\n2    89616        39\n3   118008         6\n..     ...       ...\n95   51648         6\n96  123238         6\n97  196510       NaN\n98   88217       NaN\n99  209902         6\n\n[114 rows x 2 columns]",
      "text/html": "<div>\n<style scoped>\n    .dataframe tbody tr th:only-of-type {\n        vertical-align: middle;\n    }\n\n    .dataframe tbody tr th {\n        vertical-align: top;\n    }\n\n    .dataframe thead th {\n        text-align: right;\n    }\n</style>\n<table border=\"1\" class=\"dataframe\">\n  <thead>\n    <tr style=\"text-align: right;\">\n      <th></th>\n      <th>id</th>\n      <th>platforms</th>\n    </tr>\n  </thead>\n  <tbody>\n    <tr>\n      <th>0</th>\n      <td>35004</td>\n      <td>6</td>\n    </tr>\n    <tr>\n      <th>1</th>\n      <td>176043</td>\n      <td>87</td>\n    </tr>\n    <tr>\n      <th>2</th>\n      <td>89616</td>\n      <td>34</td>\n    </tr>\n    <tr>\n      <th>2</th>\n      <td>89616</td>\n      <td>39</td>\n    </tr>\n    <tr>\n      <th>3</th>\n      <td>118008</td>\n      <td>6</td>\n    </tr>\n    <tr>\n      <th>...</th>\n      <td>...</td>\n      <td>...</td>\n    </tr>\n    <tr>\n      <th>95</th>\n      <td>51648</td>\n      <td>6</td>\n    </tr>\n    <tr>\n      <th>96</th>\n      <td>123238</td>\n      <td>6</td>\n    </tr>\n    <tr>\n      <th>97</th>\n      <td>196510</td>\n      <td>NaN</td>\n    </tr>\n    <tr>\n      <th>98</th>\n      <td>88217</td>\n      <td>NaN</td>\n    </tr>\n    <tr>\n      <th>99</th>\n      <td>209902</td>\n      <td>6</td>\n    </tr>\n  </tbody>\n</table>\n<p>114 rows × 2 columns</p>\n</div>"
     },
     "execution_count": 148,
     "metadata": {},
     "output_type": "execute_result"
    }
   ],
   "source": [
    "r = requests.post(base_url+'/games', headers=header,\n",
    "data='fields platforms; limit 100;')\n",
    "platforms_table = r.json()\n",
    "platforms_table_df =pd.DataFrame(platforms_table).explode('platforms')\n",
    "platforms_table_df"
   ],
   "metadata": {
    "collapsed": false
   }
  },
  {
   "cell_type": "markdown",
   "source": [
    "## Genres Endpoint\n",
    "### genres_info table"
   ],
   "metadata": {
    "collapsed": false
   }
  },
  {
   "cell_type": "code",
   "execution_count": 149,
   "outputs": [
    {
     "data": {
      "text/plain": "    id                        name\n0    4                    Fighting\n1    5                     Shooter\n2    7                       Music\n3    8                    Platform\n4    9                      Puzzle\n5   10                      Racing\n6   11    Real Time Strategy (RTS)\n7   12          Role-playing (RPG)\n8   13                   Simulator\n9   14                       Sport\n10  15                    Strategy\n11  16   Turn-based strategy (TBS)\n12  24                    Tactical\n13  26                 Quiz/Trivia\n14  25  Hack and slash/Beat 'em up\n15  30                     Pinball\n16  31                   Adventure\n17  33                      Arcade\n18  34                Visual Novel\n19  32                       Indie\n20  35           Card & Board Game\n21  36                        MOBA\n22   2             Point-and-click",
      "text/html": "<div>\n<style scoped>\n    .dataframe tbody tr th:only-of-type {\n        vertical-align: middle;\n    }\n\n    .dataframe tbody tr th {\n        vertical-align: top;\n    }\n\n    .dataframe thead th {\n        text-align: right;\n    }\n</style>\n<table border=\"1\" class=\"dataframe\">\n  <thead>\n    <tr style=\"text-align: right;\">\n      <th></th>\n      <th>id</th>\n      <th>name</th>\n    </tr>\n  </thead>\n  <tbody>\n    <tr>\n      <th>0</th>\n      <td>4</td>\n      <td>Fighting</td>\n    </tr>\n    <tr>\n      <th>1</th>\n      <td>5</td>\n      <td>Shooter</td>\n    </tr>\n    <tr>\n      <th>2</th>\n      <td>7</td>\n      <td>Music</td>\n    </tr>\n    <tr>\n      <th>3</th>\n      <td>8</td>\n      <td>Platform</td>\n    </tr>\n    <tr>\n      <th>4</th>\n      <td>9</td>\n      <td>Puzzle</td>\n    </tr>\n    <tr>\n      <th>5</th>\n      <td>10</td>\n      <td>Racing</td>\n    </tr>\n    <tr>\n      <th>6</th>\n      <td>11</td>\n      <td>Real Time Strategy (RTS)</td>\n    </tr>\n    <tr>\n      <th>7</th>\n      <td>12</td>\n      <td>Role-playing (RPG)</td>\n    </tr>\n    <tr>\n      <th>8</th>\n      <td>13</td>\n      <td>Simulator</td>\n    </tr>\n    <tr>\n      <th>9</th>\n      <td>14</td>\n      <td>Sport</td>\n    </tr>\n    <tr>\n      <th>10</th>\n      <td>15</td>\n      <td>Strategy</td>\n    </tr>\n    <tr>\n      <th>11</th>\n      <td>16</td>\n      <td>Turn-based strategy (TBS)</td>\n    </tr>\n    <tr>\n      <th>12</th>\n      <td>24</td>\n      <td>Tactical</td>\n    </tr>\n    <tr>\n      <th>13</th>\n      <td>26</td>\n      <td>Quiz/Trivia</td>\n    </tr>\n    <tr>\n      <th>14</th>\n      <td>25</td>\n      <td>Hack and slash/Beat 'em up</td>\n    </tr>\n    <tr>\n      <th>15</th>\n      <td>30</td>\n      <td>Pinball</td>\n    </tr>\n    <tr>\n      <th>16</th>\n      <td>31</td>\n      <td>Adventure</td>\n    </tr>\n    <tr>\n      <th>17</th>\n      <td>33</td>\n      <td>Arcade</td>\n    </tr>\n    <tr>\n      <th>18</th>\n      <td>34</td>\n      <td>Visual Novel</td>\n    </tr>\n    <tr>\n      <th>19</th>\n      <td>32</td>\n      <td>Indie</td>\n    </tr>\n    <tr>\n      <th>20</th>\n      <td>35</td>\n      <td>Card &amp; Board Game</td>\n    </tr>\n    <tr>\n      <th>21</th>\n      <td>36</td>\n      <td>MOBA</td>\n    </tr>\n    <tr>\n      <th>22</th>\n      <td>2</td>\n      <td>Point-and-click</td>\n    </tr>\n  </tbody>\n</table>\n</div>"
     },
     "execution_count": 149,
     "metadata": {},
     "output_type": "execute_result"
    }
   ],
   "source": [
    "r = requests.post(base_url+'/genres', headers=header, data='fields name; limit 500;')\n",
    "genre_info_table = r.json()\n",
    "genre_info_table_df = pd.DataFrame(genre_info_table)\n",
    "genre_info_table_df"
   ],
   "metadata": {
    "collapsed": false
   }
  },
  {
   "cell_type": "markdown",
   "source": [
    "## Keyword Endpoint\n",
    "### keyword_info_table"
   ],
   "metadata": {
    "collapsed": false
   }
  },
  {
   "cell_type": "code",
   "execution_count": 150,
   "outputs": [
    {
     "data": {
      "text/plain": "      id          slug\n0   3576            oi\n1   4010     argentina\n2  13017        fremen\n3   1027     adventure\n4  19226  fight-trivia",
      "text/html": "<div>\n<style scoped>\n    .dataframe tbody tr th:only-of-type {\n        vertical-align: middle;\n    }\n\n    .dataframe tbody tr th {\n        vertical-align: top;\n    }\n\n    .dataframe thead th {\n        text-align: right;\n    }\n</style>\n<table border=\"1\" class=\"dataframe\">\n  <thead>\n    <tr style=\"text-align: right;\">\n      <th></th>\n      <th>id</th>\n      <th>slug</th>\n    </tr>\n  </thead>\n  <tbody>\n    <tr>\n      <th>0</th>\n      <td>3576</td>\n      <td>oi</td>\n    </tr>\n    <tr>\n      <th>1</th>\n      <td>4010</td>\n      <td>argentina</td>\n    </tr>\n    <tr>\n      <th>2</th>\n      <td>13017</td>\n      <td>fremen</td>\n    </tr>\n    <tr>\n      <th>3</th>\n      <td>1027</td>\n      <td>adventure</td>\n    </tr>\n    <tr>\n      <th>4</th>\n      <td>19226</td>\n      <td>fight-trivia</td>\n    </tr>\n  </tbody>\n</table>\n</div>"
     },
     "execution_count": 150,
     "metadata": {},
     "output_type": "execute_result"
    }
   ],
   "source": [
    "r = requests.post(base_url+'/keywords', headers=header, data='fields slug; limit 100;')\n",
    "keyword_info_table = r.json()\n",
    "keyword_info_table_df = pd.DataFrame(keyword_info_table)\n",
    "keyword_info_table_df.head()"
   ],
   "metadata": {
    "collapsed": false
   }
  },
  {
   "cell_type": "markdown",
   "source": [
    "## Platform Endpoint\n",
    "### Platform Table"
   ],
   "metadata": {
    "collapsed": false
   }
  },
  {
   "cell_type": "code",
   "execution_count": 151,
   "outputs": [
    {
     "data": {
      "text/plain": "    id              name\n0  158    Commodore CDTV\n1  339         Sega Pico\n2    8     PlayStation 2\n3   39               iOS\n4   94  Commodore Plus/4",
      "text/html": "<div>\n<style scoped>\n    .dataframe tbody tr th:only-of-type {\n        vertical-align: middle;\n    }\n\n    .dataframe tbody tr th {\n        vertical-align: top;\n    }\n\n    .dataframe thead th {\n        text-align: right;\n    }\n</style>\n<table border=\"1\" class=\"dataframe\">\n  <thead>\n    <tr style=\"text-align: right;\">\n      <th></th>\n      <th>id</th>\n      <th>name</th>\n    </tr>\n  </thead>\n  <tbody>\n    <tr>\n      <th>0</th>\n      <td>158</td>\n      <td>Commodore CDTV</td>\n    </tr>\n    <tr>\n      <th>1</th>\n      <td>339</td>\n      <td>Sega Pico</td>\n    </tr>\n    <tr>\n      <th>2</th>\n      <td>8</td>\n      <td>PlayStation 2</td>\n    </tr>\n    <tr>\n      <th>3</th>\n      <td>39</td>\n      <td>iOS</td>\n    </tr>\n    <tr>\n      <th>4</th>\n      <td>94</td>\n      <td>Commodore Plus/4</td>\n    </tr>\n  </tbody>\n</table>\n</div>"
     },
     "execution_count": 151,
     "metadata": {},
     "output_type": "execute_result"
    }
   ],
   "source": [
    "r = requests.post(base_url+'/platforms', headers=header, data='fields name; limit 100;')\n",
    "platform_info_table = r.json()\n",
    "platform_info_table_df = pd.DataFrame(platform_info_table)\n",
    "platform_info_table_df.head()"
   ],
   "metadata": {
    "collapsed": false
   }
  },
  {
   "cell_type": "markdown",
   "source": [
    "# Section 2 - Clean and Format Data"
   ],
   "metadata": {
    "collapsed": false
   }
  },
  {
   "cell_type": "code",
   "execution_count": 152,
   "outputs": [],
   "source": [
    "# Renaming df tables to sync with DB Schema\n",
    "# Games Table:\n",
    "games_table_df = games_table_df.rename(columns={\"id\":\"game_id\"})\n",
    "\n",
    "# Genre Tables:\n",
    "genres_table_df = genres_table_df.rename(columns={\"id\":\"game_id\", \"genres\":\"genre_id\"})\n",
    "genre_info_table_df = genre_info_table_df.rename(columns={\"id\":\"genre_id\", \"name\":\"genre_name\"})\n",
    "\n",
    "# Keyword Tables:\n",
    "keywords_table_df = keywords_table_df.rename(columns={\"id\":\"game_id\", \"keywords\":\"keyword_id\"})\n",
    "keyword_info_table_df = keyword_info_table_df.rename(columns={\"id\":\"keyword_id\", \"slug\":\"keyword_name\"})\n",
    "\n",
    "# Platform Tables:\n",
    "platforms_table_df = platforms_table_df.rename(columns={\"id\":\"game_id\", \"platforms\":\"platform_id\"})\n",
    "platform_info_table_df = platform_info_table_df.rename(columns={\"id\":\"platform_id\", \"name\":\"platform_name\"})"
   ],
   "metadata": {
    "collapsed": false
   }
  },
  {
   "cell_type": "code",
   "execution_count": 153,
   "outputs": [],
   "source": [
    "# Converting unix time to datetime format\n",
    "games_table_df['first_release_date'] = pd.to_datetime(games_table_df['first_release_date'], unit='s', origin='unix')"
   ],
   "metadata": {
    "collapsed": false
   }
  },
  {
   "cell_type": "markdown",
   "source": [
    "# Section 3 - Upload to AWS RDS MySQL Server"
   ],
   "metadata": {
    "collapsed": false
   }
  },
  {
   "cell_type": "code",
   "execution_count": 154,
   "outputs": [],
   "source": [
    "engine = create_engine(f\"mysql+pymysql://{os.getenv('USER')}:{os.getenv('PASS')}@{os.getenv('RDS_ENDPOINT')}/igdb\"\n",
    "                       .format(host= os.getenv(\"RDS_ENDPOINT\"),\n",
    "                               port= os.getenv(\"RDS_PORT\"),\n",
    "                               user=os.getenv('USER'),\n",
    "                               pw=os.getenv('PASS'),\n",
    "                               ))"
   ],
   "metadata": {
    "collapsed": false
   }
  },
  {
   "cell_type": "code",
   "execution_count": 155,
   "outputs": [],
   "source": [
    "for i in range(len(games_table_df)):\n",
    "    try:\n",
    "        games_table_df.iloc[i:i+1].to_sql(name=\"games\",if_exists='append',con = engine, index=False)\n",
    "    except exc.IntegrityError as e:\n",
    "        pass"
   ],
   "metadata": {
    "collapsed": false
   }
  },
  {
   "cell_type": "code",
   "execution_count": 156,
   "outputs": [],
   "source": [
    "for i in range(len(genres_table_df)):\n",
    "    try:\n",
    "        genres_table_df.iloc[i:i+1].to_sql(name=\"genres\",if_exists='append',con = engine, index=False)\n",
    "    except exc.IntegrityError as e:\n",
    "        pass"
   ],
   "metadata": {
    "collapsed": false
   }
  },
  {
   "cell_type": "code",
   "execution_count": 157,
   "outputs": [],
   "source": [
    "for i in range(len(keywords_table_df)):\n",
    "    try:\n",
    "        keywords_table_df.iloc[i:i+1].to_sql(name=\"keywords\",if_exists='append',con = engine, index=False)\n",
    "    except exc.IntegrityError as e:\n",
    "        pass"
   ],
   "metadata": {
    "collapsed": false
   }
  },
  {
   "cell_type": "code",
   "execution_count": 158,
   "outputs": [],
   "source": [
    "for i in range(len(platforms_table_df)):\n",
    "    try:\n",
    "        platforms_table_df.iloc[i:i+1].to_sql(name=\"platforms\",if_exists='append',con = engine, index=False)\n",
    "    except exc.IntegrityError as e:\n",
    "        pass"
   ],
   "metadata": {
    "collapsed": false
   }
  },
  {
   "cell_type": "code",
   "execution_count": 159,
   "outputs": [],
   "source": [
    "genre_info_table_df.to_sql(name=\"genres_info\",if_exists='replace', con = engine, index=False)\n",
    "keyword_info_table_df.to_sql(name='keyword_info',if_exists='replace', con= engine, index=False)\n",
    "platform_info_table_df.to_sql(name=\"platform_info\", if_exists='replace', con= engine, index=False)"
   ],
   "metadata": {
    "collapsed": false
   }
  }
 ],
 "metadata": {
  "kernelspec": {
   "display_name": "base",
   "language": "python",
   "name": "python3"
  },
  "language_info": {
   "codemirror_mode": {
    "name": "ipython",
    "version": 3
   },
   "file_extension": ".py",
   "mimetype": "text/x-python",
   "name": "python",
   "nbconvert_exporter": "python",
   "pygments_lexer": "ipython3",
   "version": "3.9.12"
  },
  "orig_nbformat": 4,
  "vscode": {
   "interpreter": {
    "hash": "8664ec075a8ce90f16a0b70cf6da41817d1e47365f87c65cf0c45a7dcf372579"
   }
  }
 },
 "nbformat": 4,
 "nbformat_minor": 2
}
